{
 "cells": [
  {
   "cell_type": "code",
   "execution_count": 1,
   "metadata": {
    "collapsed": true
   },
   "outputs": [],
   "source": [
    "#embedding 테스트 - 완료\n",
    "##one-hot으로 할 필요가 없음.\n",
    "##embedding_size도 마음대로 결정할 수 있음.\n",
    "##random init으로 해도됨.\n",
    "##input의 embedding을 training할수도 있고 안할수도 있음\n",
    "##Y는 embedding 할 필요 없음. 그냥 target class shape만 맞춰서 loss를 구하면 됨\n",
    "\n",
    "#file에서 읽어와서 input으로 넣어보기 - 완료\n",
    "##이미 index화 되어 있는 파일 읽어오기 - 완료\n",
    "##dictionary file로부터 dic 생성 - 완료\n",
    "##embedding 활용 - 완료\n",
    "\n",
    "#saver 적용\n",
    "\n",
    "#padding 적용\n",
    "\n",
    "#batch 적용\n",
    "\n",
    "#bidirectional rnn 적용\n",
    "\n",
    "from __future__ import print_function\n",
    "\n",
    "import tensorflow as tf\n",
    "import numpy as np\n",
    "import pprint as pp\n",
    "import os\n",
    "\n",
    "from tensorflow.contrib import rnn\n",
    "tf.set_random_seed(777)  # reproducibility"
   ]
  },
  {
   "cell_type": "code",
   "execution_count": 2,
   "metadata": {
    "collapsed": true
   },
   "outputs": [],
   "source": [
    "checkpoint_path = 'data/dev/ckpt/'\n",
    "\n",
    "def read_data_from_file(file_path):\n",
    "    sentence_file = open(file_path, 'r')\n",
    "    sentences = []\n",
    "    while True:\n",
    "        line = sentence_file.readline()\n",
    "        if not line:\n",
    "            break;\n",
    "        sentences.append(line.replace('\\n',''))\n",
    "    sentence_file.close()\n",
    "    \n",
    "    rev_vocab_dic = list(set(' '.join(sentences)))\n",
    "    vocab_dic = {w: i for i, w in enumerate(rev_vocab_dic)}\n",
    "    return sentences, vocab_dic, rev_vocab_dic\n",
    "\n",
    "def read_sentence_indexes_from_file(file_path):\n",
    "    sentence_index_file = open(file_path, 'r')\n",
    "    sentence_indexes = []\n",
    "    while True:\n",
    "        line = sentence_index_file.readline()\n",
    "        if not line:\n",
    "            break;\n",
    "        sentence_indexes.append([int(c) for c in line.replace('\\n','').split()])\n",
    "    sentence_index_file.close()\n",
    "    return sentence_indexes\n",
    "\n",
    "def load_dic(dic_file_path):\n",
    "    dic_file = open(dic_file_path, 'r')\n",
    "    rev_vocab_dic = []\n",
    "    while True:\n",
    "        line = dic_file.readline()\n",
    "        if not line:\n",
    "            break;\n",
    "        rev_vocab_dic.append(line.replace('\\n',''))\n",
    "    vocab_dic = {w: i for i, w in enumerate(rev_vocab_dic)}\n",
    "    return vocab_dic, rev_vocab_dic"
   ]
  },
  {
   "cell_type": "code",
   "execution_count": 3,
   "metadata": {
    "collapsed": false
   },
   "outputs": [],
   "source": [
    "chosung_sentence_indexes =  read_sentence_indexes_from_file('data/dev/namuwiki_chosung_dev.txt.ids10000')\n",
    "target_sentence_indexes =  read_sentence_indexes_from_file('data/dev/namuwiki_sentences_dev.txt.ids10000')\n",
    "chosung_vocab_dic, chosung_rev_vocab_dic = load_dic('data/vocab10000.from')\n",
    "target_vocab_dic, target_rev_vocab_dic = load_dic('data/vocab10000.to')"
   ]
  },
  {
   "cell_type": "code",
   "execution_count": 4,
   "metadata": {
    "collapsed": false
   },
   "outputs": [],
   "source": [
    "data_dim = len(target_vocab_dic)\n",
    "hidden_size = len(target_vocab_dic)\n",
    "num_classes = len(target_vocab_dic)\n",
    "embedding_size = 30\n",
    "sequence_length = 22  # Any arbitrary number\n",
    "learning_rate = 0.05"
   ]
  },
  {
   "cell_type": "code",
   "execution_count": 5,
   "metadata": {
    "collapsed": false
   },
   "outputs": [],
   "source": [
    "dataX = []\n",
    "dataY = []\n",
    "for i in range(len(chosung_sentence_indexes)):\n",
    "    chosung_indexes = chosung_sentence_indexes[i][:sequence_length]\n",
    "    target_indexes = target_sentence_indexes[i][:sequence_length]\n",
    "    dataX.append(chosung_indexes)\n",
    "    dataY.append(target_indexes)"
   ]
  },
  {
   "cell_type": "code",
   "execution_count": 6,
   "metadata": {
    "collapsed": false
   },
   "outputs": [],
   "source": [
    "batch_size = len(dataX)\n",
    "\n",
    "X = tf.placeholder(tf.int32, [None, sequence_length], name=\"chosung_sentences\")\n",
    "Y = tf.placeholder(tf.int32, [None, sequence_length], name=\"target_sentences\")"
   ]
  },
  {
   "cell_type": "code",
   "execution_count": 7,
   "metadata": {
    "collapsed": false
   },
   "outputs": [
    {
     "name": "stdout",
     "output_type": "stream",
     "text": [
      "3547\n",
      "Tensor(\"embedded_chosung_sentences:0\", shape=(?, 22, 30), dtype=float32)\n"
     ]
    }
   ],
   "source": [
    "print(num_classes)\n",
    "embeddings = tf.Variable(\n",
    "    tf.random_uniform([len(chosung_vocab_dic), embedding_size], -1.0, 1.0), trainable=False, name=\"chosung_embeddings\")\n",
    "embedded_input = tf.nn.embedding_lookup(embeddings, X, name=\"embedded_chosung_sentences\")\n",
    "print(embedded_input)"
   ]
  },
  {
   "cell_type": "code",
   "execution_count": 8,
   "metadata": {
    "collapsed": false
   },
   "outputs": [],
   "source": [
    "# Make a lstm cell with hidden_size (each unit output vector size)\n",
    "cell = rnn.BasicLSTMCell(hidden_size, state_is_tuple=True)\n",
    "cell = rnn.MultiRNNCell([cell] * 2, state_is_tuple=True)\n",
    "\n",
    "# outputs: unfolding size x hidden size, state = hidden size\n",
    "outputs, _states = tf.nn.dynamic_rnn(cell, embedded_input, dtype=tf.float32)\n",
    "\n",
    "# FC layer\n",
    "X_for_fc = tf.reshape(outputs, [-1, hidden_size], name=\"reshaped_rnn_output\")\n",
    "outputs = tf.contrib.layers.fully_connected(X_for_fc, num_classes, activation_fn=None)\n",
    "\n",
    "# reshape out for sequence_loss\n",
    "outputs = tf.reshape(outputs, [batch_size, sequence_length, num_classes], name=\"predictions\")\n",
    "\n",
    "# All weights are 1 (equal weights)\n",
    "weights = tf.ones([batch_size, sequence_length], name=\"seqence_weights\")\n",
    "\n",
    "sequence_loss = tf.contrib.seq2seq.sequence_loss(\n",
    "    logits=outputs, targets=Y, weights=weights, name=\"sequence_loss\")\n",
    "mean_loss = tf.reduce_mean(sequence_loss)\n",
    "train_op = tf.train.AdamOptimizer(learning_rate=learning_rate).minimize(mean_loss)"
   ]
  },
  {
   "cell_type": "code",
   "execution_count": 9,
   "metadata": {
    "collapsed": false
   },
   "outputs": [
    {
     "name": "stdout",
     "output_type": "stream",
     "text": [
      "Reading model parameters from data/dev/ckpt/chosung_rnn.ckpt\n"
     ]
    }
   ],
   "source": [
    "sess = tf.Session()\n",
    "saver = tf.train.Saver(tf.global_variables())\n",
    "\n",
    "ckpt = tf.train.get_checkpoint_state(checkpoint_path)\n",
    "if ckpt and tf.train.checkpoint_exists(ckpt.model_checkpoint_path):\n",
    "    print(\"Reading model parameters from %s\" % ckpt.model_checkpoint_path)\n",
    "    saver.restore(sess, ckpt.model_checkpoint_path)\n",
    "else:\n",
    "    print(\"Created model with fresh parameters.\")\n",
    "    sess.run(tf.global_variables_initializer())"
   ]
  },
  {
   "cell_type": "code",
   "execution_count": null,
   "metadata": {
    "collapsed": false
   },
   "outputs": [
    {
     "name": "stdout",
     "output_type": "stream",
     "text": [
      "step: 0  loss: 17.2944\n",
      "0면해면이면이면이사이면이사이사이사이사이사\n",
      "0면해면이면이면이사이면이사이사이사이사이사\n",
      "여러a에서서서서서서서서서서서모모모서하이공\n",
      "0년들이사삽사이사이사이사이사이사이사이사이\n",
      "0년예삽사이사이사이사이사이사이사이사이사이\n",
      "0면해면이면이면이사이면이사이사이사이사이사\n",
      "0면해면이면이면이사이면이사이사이사이사이사\n",
      "0면해면이면이면이사이면이사이사이사이사이사\n",
      "여러룹사삽사삽사이사이사이사이사이사이사이사\n",
      "벌크서서서서서서서서서서서서서서서서서서서서\n",
      "----------\n"
     ]
    }
   ],
   "source": [
    "for i in range(100):\n",
    "    _, l, results = sess.run(\n",
    "        [train_op, mean_loss, outputs], feed_dict={X: dataX, Y: dataY})\n",
    "    if i % 9 == 0:\n",
    "        print('step:',i,' loss:',l)\n",
    "        results = sess.run(outputs, feed_dict={X: dataX})\n",
    "        for sentence_result in results:\n",
    "            index = np.argmax(sentence_result, axis=1)\n",
    "            print(''.join([target_rev_vocab_dic[t] for t in index]))\n",
    "        print('----------')\n",
    "        checkpoint_file_path = os.path.join(checkpoint_path, \"chosung_rnn.ckpt\")\n",
    "        saver.save(sess, checkpoint_file_path)\n",
    "        print('saved checkpoint')\n"
   ]
  },
  {
   "cell_type": "code",
   "execution_count": null,
   "metadata": {
    "collapsed": false
   },
   "outputs": [],
   "source": [
    "print(len(results)) #batch size\n",
    "print(len(results[0])) #sequence length\n",
    "print(len(results[0][0])) #vocab_size\n",
    "\n",
    "print(batch_size)\n",
    "print(sequence_length)\n",
    "print(len(target_vocab_dic))\n"
   ]
  },
  {
   "cell_type": "code",
   "execution_count": null,
   "metadata": {
    "collapsed": false
   },
   "outputs": [],
   "source": [
    "#embedding 연습!!\n",
    "import tensorflow as tf\n",
    "\n",
    "embeddings = tf.Variable(\n",
    "    tf.random_uniform([num_classes, 50], -1.0, 1.0))\n",
    "\n",
    "train_inputs = tf.placeholder(tf.int32, shape=[3,2])\n",
    "embed = tf.nn.embedding_lookup(embeddings, train_inputs)\n",
    "\n",
    "sess = tf.Session()\n",
    "sess.run(tf.global_variables_initializer())\n",
    "ems, inputs,embd = sess.run([embeddings,train_inputs,embed], feed_dict={train_inputs:[[1,2],[2,3],[3,4]]})\n",
    "\n",
    "for i in ems:\n",
    "    print(i)\n",
    "print('-----------')\n",
    "print(inputs)\n",
    "print('-----------')\n",
    "print(embd)"
   ]
  },
  {
   "cell_type": "code",
   "execution_count": null,
   "metadata": {
    "collapsed": true
   },
   "outputs": [],
   "source": []
  }
 ],
 "metadata": {
  "kernelspec": {
   "display_name": "Python 3",
   "language": "python",
   "name": "python3"
  },
  "language_info": {
   "codemirror_mode": {
    "name": "ipython",
    "version": 3
   },
   "file_extension": ".py",
   "mimetype": "text/x-python",
   "name": "python",
   "nbconvert_exporter": "python",
   "pygments_lexer": "ipython3",
   "version": "3.5.3"
  }
 },
 "nbformat": 4,
 "nbformat_minor": 2
}
