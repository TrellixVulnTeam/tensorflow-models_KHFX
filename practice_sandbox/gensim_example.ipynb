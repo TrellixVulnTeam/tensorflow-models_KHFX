{
 "cells": [
  {
   "cell_type": "code",
   "execution_count": 1,
   "metadata": {
    "collapsed": false
   },
   "outputs": [],
   "source": [
    "from gensim import corpora\n",
    "\n",
    "documents = [\"Human machine interface for lab abc computer applications\",\n",
    "             \"A survey of user opinion of computer system response time\",\n",
    "             \"The EPS user interface management system\",\n",
    "             \"System and human system engineering testing of EPS\",\n",
    "             \"Relation of user perceived response time to error measurement\",\n",
    "             \"The generation of random binary unordered trees\",\n",
    "             \"The intersection graph of paths in trees\",\n",
    "             \"Graph minors IV Widths of trees and well quasi ordering\",\n",
    "             \"Graph minors A survey\"]"
   ]
  },
  {
   "cell_type": "code",
   "execution_count": 2,
   "metadata": {
    "collapsed": false
   },
   "outputs": [
    {
     "name": "stdout",
     "output_type": "stream",
     "text": [
      "[['human', 'machine', 'interface', 'lab', 'abc', 'computer', 'applications'], ['survey', 'user', 'opinion', 'computer', 'system', 'response', 'time'], ['eps', 'user', 'interface', 'management', 'system'], ['system', 'human', 'system', 'engineering', 'testing', 'eps'], ['relation', 'user', 'perceived', 'response', 'time', 'error', 'measurement'], ['generation', 'random', 'binary', 'unordered', 'trees'], ['intersection', 'graph', 'paths', 'trees'], ['graph', 'minors', 'iv', 'widths', 'trees', 'well', 'quasi', 'ordering'], ['graph', 'minors', 'survey']]\n"
     ]
    }
   ],
   "source": [
    "stoplist = set('for a of the and to in'.split())\n",
    "texts = [[word for word in document.lower().split() if word not in stoplist]\n",
    "         for document in documents]\n",
    "print(texts)"
   ]
  },
  {
   "cell_type": "code",
   "execution_count": 3,
   "metadata": {
    "collapsed": false
   },
   "outputs": [
    {
     "name": "stdout",
     "output_type": "stream",
     "text": [
      "[['human', 'interface', 'computer'],\n",
      " ['survey', 'user', 'computer', 'system', 'response', 'time'],\n",
      " ['eps', 'user', 'interface', 'system'],\n",
      " ['system', 'human', 'system', 'eps'],\n",
      " ['user', 'response', 'time'],\n",
      " ['trees'],\n",
      " ['graph', 'trees'],\n",
      " ['graph', 'minors', 'trees'],\n",
      " ['graph', 'minors', 'survey']]\n"
     ]
    }
   ],
   "source": [
    "# remove words that appear only once\n",
    "from collections import defaultdict\n",
    "frequency = defaultdict(int)\n",
    "for text in texts:\n",
    "    for token in text:\n",
    "        frequency[token] += 1\n",
    "texts = [[token for token in text if frequency[token] > 1]\n",
    "         for text in texts]\n",
    "from pprint import pprint  # pretty-printer\n",
    "pprint(texts)"
   ]
  },
  {
   "cell_type": "code",
   "execution_count": 4,
   "metadata": {
    "collapsed": false
   },
   "outputs": [
    {
     "name": "stdout",
     "output_type": "stream",
     "text": [
      "Dictionary(12 unique tokens: ['eps', 'time', 'system', 'computer', 'minors']...)\n"
     ]
    }
   ],
   "source": [
    "dictionary = corpora.Dictionary(texts)\n",
    "dictionary.save('/tmp/deerwester.dict')  # store the dictionary, for future reference\n",
    "print(dictionary)"
   ]
  },
  {
   "cell_type": "code",
   "execution_count": 5,
   "metadata": {
    "collapsed": false
   },
   "outputs": [
    {
     "name": "stdout",
     "output_type": "stream",
     "text": [
      "{'eps': 8, 'time': 4, 'system': 5, 'computer': 1, 'minors': 11, 'user': 7, 'trees': 9, 'graph': 10, 'human': 0, 'interface': 2, 'survey': 3, 'response': 6}\n"
     ]
    }
   ],
   "source": [
    "print(dictionary.token2id)"
   ]
  },
  {
   "cell_type": "code",
   "execution_count": 6,
   "metadata": {
    "collapsed": false
   },
   "outputs": [
    {
     "name": "stdout",
     "output_type": "stream",
     "text": [
      "[(0, 1), (1, 1)]\n"
     ]
    }
   ],
   "source": [
    "new_doc = \"Human computer interaction\"\n",
    "new_vec = dictionary.doc2bow(new_doc.lower().split())\n",
    "print(new_vec)  # the word \"interaction\" does not appear in the dictionary and is ignored"
   ]
  },
  {
   "cell_type": "code",
   "execution_count": 7,
   "metadata": {
    "collapsed": false
   },
   "outputs": [
    {
     "name": "stdout",
     "output_type": "stream",
     "text": [
      "[[(0, 1), (1, 1), (2, 1)], [(1, 1), (3, 1), (4, 1), (5, 1), (6, 1), (7, 1)], [(2, 1), (5, 1), (7, 1), (8, 1)], [(0, 1), (5, 2), (8, 1)], [(4, 1), (6, 1), (7, 1)], [(9, 1)], [(9, 1), (10, 1)], [(9, 1), (10, 1), (11, 1)], [(3, 1), (10, 1), (11, 1)]]\n"
     ]
    }
   ],
   "source": [
    "corpus = [dictionary.doc2bow(text) for text in texts]\n",
    "corpora.MmCorpus.serialize('/tmp/deerwester.mm', corpus)  # store to disk, for later use\n",
    "print(corpus)"
   ]
  },
  {
   "cell_type": "code",
   "execution_count": 16,
   "metadata": {
    "collapsed": false
   },
   "outputs": [
    {
     "name": "stdout",
     "output_type": "stream",
     "text": [
      "Word2Vec(vocab=0, size=100, alpha=0.025)\n",
      "None\n"
     ]
    },
    {
     "data": {
      "text/plain": [
       "17"
      ]
     },
     "execution_count": 16,
     "metadata": {},
     "output_type": "execute_result"
    }
   ],
   "source": [
    "import gensim\n",
    "model = gensim.models.Word2Vec(min_count=0)\n",
    "result = model.build_vocab(texts)\n",
    "model.train(texts)\n",
    "# model = gensim.models.Word2Vec(texts, size=100, window=5, min_count=5, workers=4)"
   ]
  },
  {
   "cell_type": "code",
   "execution_count": 17,
   "metadata": {
    "collapsed": false
   },
   "outputs": [
    {
     "name": "stdout",
     "output_type": "stream",
     "text": [
      "[ -5.32385486e-04  -2.75653997e-03   2.18074583e-03  -4.22685780e-03\n",
      "  -4.67232848e-03   4.67745494e-03   1.57544017e-03  -9.24268039e-04\n",
      "   1.28543028e-03  -9.60473029e-04  -2.30079959e-03   1.51439314e-03\n",
      "  -1.41438644e-03   2.29413179e-03  -7.36204267e-04  -1.39313212e-04\n",
      "  -4.75939084e-03   3.96533869e-03  -1.87260716e-03   2.13734256e-05\n",
      "   4.28576168e-04  -2.49227392e-03   1.31512317e-03   3.13545321e-03\n",
      "   4.96754842e-03  -9.99736483e-04  -2.05945969e-03   1.01419666e-03\n",
      "  -2.98804161e-03  -2.59762281e-03  -2.18377984e-03  -2.32957141e-03\n",
      "   5.83182380e-04   1.86805977e-04  -2.88997311e-03   2.66756373e-03\n",
      "  -2.36616097e-03  -3.56100476e-03  -4.77932999e-03  -1.97184947e-03\n",
      "   4.15899744e-03   1.69933052e-03  -3.31335072e-03   3.21463216e-03\n",
      "  -3.35199002e-04  -3.76122817e-03  -6.55961805e-04  -2.43614567e-03\n",
      "   1.40074920e-03   1.44708640e-04   4.31377813e-03   3.04120430e-03\n",
      "   4.09119530e-03   1.43526297e-03  -5.80598135e-04   3.07507627e-03\n",
      "  -3.56743042e-03   2.25803372e-03   1.12879579e-03  -1.16002222e-04\n",
      "   2.17548246e-03   2.05237605e-03   2.41591153e-03  -3.87782673e-03\n",
      "  -1.58838672e-03  -6.76730764e-04  -1.96081237e-03   4.26159706e-03\n",
      "  -6.55496551e-04   4.07597690e-04   3.05651361e-03  -1.62561296e-03\n",
      "   2.12334655e-03  -1.29576446e-03   2.11863895e-04   3.78332159e-04\n",
      "  -3.24392319e-03  -4.38926741e-03  -4.81301779e-03  -1.15156290e-03\n",
      "  -9.16551740e-04  -6.53252820e-04   3.58181261e-03   1.80372153e-04\n",
      "   4.36604908e-03   4.05155681e-03  -2.75246520e-03  -4.23126481e-03\n",
      "   1.26591651e-03   1.84699986e-03  -2.12506638e-04  -3.41422600e-03\n",
      "   3.36274575e-03  -2.89733824e-03  -4.94496478e-03  -8.72427539e-04\n",
      "   4.70098341e-03   4.76398226e-03   5.54779486e-04   4.94311610e-03]\n"
     ]
    }
   ],
   "source": [
    "print(model.wv['computer'])"
   ]
  },
  {
   "cell_type": "code",
   "execution_count": null,
   "metadata": {
    "collapsed": true
   },
   "outputs": [],
   "source": []
  }
 ],
 "metadata": {
  "kernelspec": {
   "display_name": "Python 3",
   "language": "python",
   "name": "python3"
  },
  "language_info": {
   "codemirror_mode": {
    "name": "ipython",
    "version": 3
   },
   "file_extension": ".py",
   "mimetype": "text/x-python",
   "name": "python",
   "nbconvert_exporter": "python",
   "pygments_lexer": "ipython3",
   "version": "3.5.3"
  }
 },
 "nbformat": 4,
 "nbformat_minor": 2
}
