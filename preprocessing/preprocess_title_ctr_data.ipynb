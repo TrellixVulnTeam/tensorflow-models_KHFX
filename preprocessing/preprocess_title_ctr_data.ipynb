{
 "cells": [
  {
   "cell_type": "code",
   "execution_count": 4,
   "metadata": {
    "collapsed": true
   },
   "outputs": [],
   "source": [
    "import tensorflow as tf\n",
    "import re"
   ]
  },
  {
   "cell_type": "code",
   "execution_count": 5,
   "metadata": {
    "collapsed": false
   },
   "outputs": [
    {
     "name": "stdout",
     "output_type": "stream",
     "text": [
      "10000 : 마케팅 연애의목적 0.0043\n",
      "20000 : 콘텐츠 스포티비 기자회견장에서 화보 찍는 체조요정들 0.0071\n",
      "30000 : 뉴스 스브스뉴스 스토리카드 그 사람이 사랑하는 방법 0.0128\n",
      "40000 : 뉴스 엑스트라계의 최수종 갓스트라 스브스뉴스 스토리카드  0.0071\n",
      "50000 : 콘텐츠 따뜻한 커피도 체온을 떨어뜨린다  동영상  0.0073\n",
      "총 라인 수 :  51850\n",
      "타이틀 수 :  51826\n",
      "CTR 수 :  51826\n",
      "에러 수 :  24\n",
      "['콘텐츠 보그걸 초강력 워터프루프', '콘텐츠 보그걸 셔츠 초간단 연출법', '콘텐츠 보그걸 센스 넘치는 여행 소품들', '콘텐츠 보그걸 부위별 셀프 운동법', '마케팅 중복이벤트']\n",
      "[[0.0211], [0.0144], [0.0091], [0.0209], [0.0072]]\n"
     ]
    }
   ],
   "source": [
    "f = open('../data/content_list.csv','r')\n",
    "\n",
    "line_counter = 0\n",
    "unsupport_title_counter = 0\n",
    "title_arr = []\n",
    "ctr_arr = []\n",
    "\n",
    "ex_hangul = re.compile('[^ ㄱ-ㅣ가-힣]+') # 한글과 띄어쓰기를 제외한 모든 글자\n",
    "def map_hangul(str):\n",
    "    str = str.replace('_',' ')\n",
    "    str = ex_hangul.sub('',str)\n",
    "    str = str.replace('  ',' ')\n",
    "    return str\n",
    "\n",
    "while True:    \n",
    "    line = f.readline()\n",
    "    if not line: break\n",
    "    line_counter += 1\n",
    "    \n",
    "    line = line.replace('\"\"',' ')\n",
    "    content_info = line.split('\"')\n",
    "    \n",
    "    try:\n",
    "        title = map_hangul(content_info[1])\n",
    "        ctr = content_info[2].split(',')[1]\n",
    "        title_arr.append(title)\n",
    "        ctr_arr.append([float(ctr)])\n",
    "        if line_counter % 10000 == 0:\n",
    "            print(line_counter, \":\", title, ctr)\n",
    "    except:\n",
    "        unsupport_title_counter += 1\n",
    "        \n",
    "print('총 라인 수 : ', line_counter)\n",
    "print('타이틀 수 : ', len(title_arr))\n",
    "print('CTR 수 : ', len(ctr_arr))\n",
    "print('에러 수 : ',unsupport_title_counter)\n",
    "    \n",
    "print(title_arr[:5])\n",
    "print(ctr_arr[:5])\n"
   ]
  },
  {
   "cell_type": "code",
   "execution_count": 18,
   "metadata": {
    "collapsed": false
   },
   "outputs": [],
   "source": [
    "# ' '.join(title_arr[2].split(' ')[2:])\n",
    "output_file = open('../data/title_ctr.csv','w')\n",
    "for i in range(len(title_arr)):\n",
    "    title_info = title_arr[i].split(' ')\n",
    "    content_type = title_info[0]\n",
    "    cp_name = title_info[1]\n",
    "    title = ' '.join(title_info[2:])\n",
    "    ctr = str(ctr_arr[i][0])\n",
    "    output_file.write(content_type+','+cp_name+','+title+','+ctr+'\\n')\n",
    "    "
   ]
  },
  {
   "cell_type": "code",
   "execution_count": null,
   "metadata": {
    "collapsed": true
   },
   "outputs": [],
   "source": []
  }
 ],
 "metadata": {
  "kernelspec": {
   "display_name": "Python 3",
   "language": "python",
   "name": "python3"
  },
  "language_info": {
   "codemirror_mode": {
    "name": "ipython",
    "version": 3
   },
   "file_extension": ".py",
   "mimetype": "text/x-python",
   "name": "python",
   "nbconvert_exporter": "python",
   "pygments_lexer": "ipython3",
   "version": "3.5.3"
  }
 },
 "nbformat": 4,
 "nbformat_minor": 2
}
